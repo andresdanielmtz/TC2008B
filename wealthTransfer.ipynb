{
 "cells": [
  {
   "cell_type": "markdown",
   "metadata": {
    "id": "xxSRDh9Fa1rI"
   },
   "source": [
    "# Wealth transfer"
   ]
  },
  {
   "cell_type": "code",
   "execution_count": 159,
   "metadata": {
    "collapsed": true,
    "id": "PUBmkZYia4aq"
   },
   "outputs": [],
   "source": [
    "#!pip install agentpy"
   ]
  },
  {
   "cell_type": "markdown",
   "metadata": {
    "id": "EJMwZfQ7a1rI"
   },
   "source": [
    "This notebook presents a tutorial for beginners on how to create a simple agent-based model with the [agentpy](https://agentpy.readthedocs.io) package.\n",
    "It demonstrates how to create a basic model with a custom agent type, run a simulation, record data, and visualize results."
   ]
  },
  {
   "cell_type": "code",
   "execution_count": 160,
   "metadata": {
    "id": "DTmKh4N3a1rI"
   },
   "outputs": [],
   "source": [
    "# Model design\n",
    "import agentpy as ap\n",
    "import numpy as np\n",
    "import random\n",
    "\n",
    "# Visualization\n",
    "import seaborn as sns"
   ]
  },
  {
   "cell_type": "markdown",
   "metadata": {
    "id": "TYA4TEFxa1rI"
   },
   "source": [
    "## About the model\n",
    "\n",
    "The model explores the distribution of wealth under a trading population of agents.\n",
    "Each agent starts with one unit of wealth.\n",
    "During each time-step, each agents with positive wealth\n",
    "randomly selects a trading partner and gives them one unit of their wealth.\n",
    "We will see that this random interaction will create an inequality of wealth that\n",
    "follows a [Boltzmann distribution](http://www.phys.ufl.edu/~meisel/Boltzmann.pdf).\n",
    "The original version of this model been written in [MESA](https://mesa.readthedocs.io/)\n",
    "and can be found [here](https://mesa.readthedocs.io/en/master/tutorials/intro_tutorial.html)."
   ]
  },
  {
   "cell_type": "markdown",
   "metadata": {
    "id": "m9qVJWM5a1rZ"
   },
   "source": [
    "## Model definition"
   ]
  },
  {
   "cell_type": "markdown",
   "metadata": {
    "id": "JkRyRiKra1rZ",
    "raw_mimetype": "text/restructuredtext"
   },
   "source": [
    "We start by defining a new type of `Agent` with the following methods:\n",
    "\n",
    "- `setup()` is called automatically when a new agent is created and initializes a variable `wealth`.\n",
    "- `wealth_transfer()` describes the agent's behavior at every time-step and will be called by the model."
   ]
  },
  {
   "cell_type": "code",
   "execution_count": 161,
   "metadata": {
    "id": "nFbyfleLa1rZ"
   },
   "outputs": [],
   "source": [
    "class WealthAgent(ap.Agent):\n",
    "\n",
    "    \"\"\"\n",
    "    An agent with wealth\n",
    "    - En este agente se implementará el algoritmo general de un\n",
    "    agente con memoria, y tendrá una utilidad definida.\n",
    "    - El agente será útil entre mejor distribuida esté su riqueza entre los\n",
    "    demás agentes.\n",
    "    \"\"\"\n",
    "\n",
    "    def see(self,e):\n",
    "        \"\"\"\n",
    "        La función de percepción.\n",
    "        Asumimos que 'e' es la lista de agentes.\n",
    "        \"\"\"\n",
    "\n",
    "        # Se percibe a la lista de agentes y a la cartera de cada uno\n",
    "        per = e.random()\n",
    "        return per\n",
    "\n",
    "    def brf(self, per): \n",
    "        self.beliefs['partner'] = per\n",
    "        \n",
    "    def opt(self): # donation \n",
    "        if self.beliefs['partner'] and self.wealth > 0: \n",
    "            self.desires.append(\"Donar\") \n",
    "    \n",
    "    def filter(self): \n",
    "        self.intentions.append(self.desired[0])\n",
    "    \n",
    "    def plan(self):\n",
    "        self.the_plan = self.wealth_transfer\n",
    "    \n",
    "    def BDI(self):\n",
    "        per = self.see(self.model.agents)\n",
    "        self.brf(per)\n",
    "        self.opt()\n",
    "        self.filter() \n",
    "        self.plan()\n",
    "    \n",
    "    def next(self):\n",
    "        pass \n",
    "    \n",
    "    def action(self):\n",
    "        for op in self.the_plan:\n",
    "            op() \n",
    "    \n",
    "    def setup(self):\n",
    "        self.wealth = 1\n",
    "        self.beliefs = {'partner': None}\n",
    "        self.desires = [] \n",
    "        self.intentions = [] \n",
    "    \n",
    "    def next(self, per):\n",
    "        \"\"\"\n",
    "        La función 'next' para tomar decisiones con respecto a experiencias\n",
    "        pasadas. 'self.I' es el estado interno del agente, que contiene atributos.\n",
    "        'per' es lo percibido, en este caso la lista de agentes y sus carteras.\n",
    "        Aquí se quiere dar todas las monedas.\n",
    "        \"\"\"\n",
    "        self.utility = 1 - self.wealth / self.model.p.agents\n",
    "        self.I['target'] = per\n",
    "\n",
    "\n",
    "    def action(self):\n",
    "        \"\"\"\n",
    "        La función de acción. aquí se escoge una acción y se ejecuta.\n",
    "        \"\"\"\n",
    "        if self.wealth > 0:\n",
    "            #Se da una cantidad de riqueza proporcional a la utilidad\n",
    "            self.I['target'].wealth += 1 - self.utility\n",
    "            self.wealth-= 1-self.utility\n",
    "\n",
    "    def execute(self):\n",
    "        \"\"\"\n",
    "        Función para ejecutar el algoritmo del agente.\n",
    "        'see' -> 'next' -> 'action'\n",
    "        \"\"\"\n",
    "        per = self.see(self.model.agents)\n",
    "        self.next(per)\n",
    "        self.action()\n",
    "\n",
    "\n",
    "    def setup(self):\n",
    "        self.beliefs = {'partner': None} \n",
    "        self.wealth = 1\n",
    "        self.actions = {self.wealth_transfer} \n",
    "\n",
    "    def wealth_transfer(self):\n",
    "\n",
    "        if self.wealth > 0:\n",
    "\n",
    "            partner = self.model.agents.random()\n",
    "            partner.wealth += 1\n",
    "            self.wealth -= 1"
   ]
  },
  {
   "cell_type": "markdown",
   "metadata": {
    "id": "0xaTEppNa1rZ",
    "raw_mimetype": "text/restructuredtext"
   },
   "source": [
    "Next, we define a method to calculate the [Gini Coefficient](https://en.wikipedia.org/wiki/Gini_coefficient),\n",
    "which will measure the inequality among our agents."
   ]
  },
  {
   "cell_type": "code",
   "execution_count": 162,
   "metadata": {
    "id": "KvR_ZFkoa1rZ"
   },
   "outputs": [],
   "source": [
    "def gini(x):\n",
    "\n",
    "    \"\"\" Calculate Gini Coefficient \"\"\"\n",
    "    # By Warren Weckesser https://stackoverflow.com/a/39513799\n",
    "\n",
    "    x = np.array(x)\n",
    "    mad = np.abs(np.subtract.outer(x, x)).mean()  # Mean absolute difference\n",
    "    rmad = mad / np.mean(x)  # Relative mean absolute difference\n",
    "    return 0.5 * rmad"
   ]
  },
  {
   "cell_type": "markdown",
   "metadata": {
    "id": "CGciTF-za1rZ",
    "raw_mimetype": "text/restructuredtext"
   },
   "source": [
    "Finally, we define our [`Model`](https://agentpy.readthedocs.io/en/stable/reference_models.html) with the following methods:\n",
    "\n",
    "- `setup` defines how many agents should be created at the beginning of the simulation.\n",
    "- `step` calls all agents during each time-step to perform their `wealth_transfer` method.\n",
    "- `update` calculates and record the current Gini coefficient after each time-step.\n",
    "- `end`, which is called at the end of the simulation, we record the wealth of each agent."
   ]
  },
  {
   "cell_type": "code",
   "execution_count": 163,
   "metadata": {
    "id": "5K1dXaEca1rZ"
   },
   "outputs": [],
   "source": [
    "class WealthModel(ap.Model):\n",
    "\n",
    "    \"\"\" A simple model of random wealth transfers \"\"\"\n",
    "\n",
    "    def setup(self):\n",
    "\n",
    "        self.agents = ap.AgentList(self, self.p.agents, WealthAgent)\n",
    "\n",
    "    def step(self):\n",
    "\n",
    "        # aquí ejecutamos el algoritmo del agente (para todos los agentes)\n",
    "        self.agents.execute()\n",
    "        #self.agents.wealth_transfer()\n",
    "\n",
    "    def update(self):\n",
    "\n",
    "        self.record('Gini Coefficient', gini(self.agents.wealth))\n",
    "\n",
    "    def end(self):\n",
    "\n",
    "        self.agents.record('wealth')"
   ]
  },
  {
   "cell_type": "markdown",
   "metadata": {
    "id": "gkzJmXp9a1rZ"
   },
   "source": [
    "## Simulation run"
   ]
  },
  {
   "cell_type": "markdown",
   "metadata": {
    "id": "tL_JmHMKa1rZ",
    "raw_mimetype": "text/restructuredtext"
   },
   "source": [
    "To prepare, we define parameter dictionary with a [random seed](https://agentpy.readthedocs.io/en/stable/guide_random.html), the number of agents, and the number of time-steps."
   ]
  },
  {
   "cell_type": "code",
   "execution_count": 164,
   "metadata": {
    "id": "UwfQgq-Ka1rZ"
   },
   "outputs": [],
   "source": [
    "parameters = {\n",
    "    'agents': 100,\n",
    "    'steps': 100,\n",
    "    'seed': 42,\n",
    "}"
   ]
  },
  {
   "cell_type": "markdown",
   "metadata": {
    "id": "Ih99syNua1rZ",
    "raw_mimetype": "text/restructuredtext"
   },
   "source": [
    "To perform a simulation, we initialize our model with a given set of parameters and call [`Model.run()`](https://agentpy.readthedocs.io/en/stable/reference_models.html)."
   ]
  },
  {
   "cell_type": "code",
   "execution_count": 165,
   "metadata": {
    "colab": {
     "base_uri": "https://localhost:8080/"
    },
    "id": "K-59KrPPa1rZ",
    "outputId": "915cb592-65a5-4f70-ede7-860ca3e34d12"
   },
   "outputs": [
    {
     "name": "stdout",
     "output_type": "stream",
     "text": [
      "\r\n",
      "Completed: 1 steps\r\n",
      "Completed: 2 steps\r\n",
      "Completed: 3 steps\r\n",
      "Completed: 4 steps\r\n",
      "Completed: 5 steps\r\n",
      "Completed: 6 steps\r\n",
      "Completed: 7 steps\r\n",
      "Completed: 8 steps\r\n",
      "Completed: 9 steps\r\n",
      "Completed: 10 steps\r\n",
      "Completed: 11 steps\r\n",
      "Completed: 12 steps\r\n",
      "Completed: 13 steps\r\n",
      "Completed: 14 steps\r\n",
      "Completed: 15 steps\r\n",
      "Completed: 16 steps\r\n",
      "Completed: 17 steps\r\n",
      "Completed: 18 steps\r\n",
      "Completed: 19 steps\r\n",
      "Completed: 20 steps\r\n",
      "Completed: 21 steps\r\n",
      "Completed: 22 steps\r\n",
      "Completed: 23 steps\r\n",
      "Completed: 24 steps\r\n",
      "Completed: 25 steps\r\n",
      "Completed: 26 steps\r\n",
      "Completed: 27 steps\r\n",
      "Completed: 28 steps\r\n",
      "Completed: 29 steps\r\n",
      "Completed: 30 steps\r\n",
      "Completed: 31 steps\r\n",
      "Completed: 32 steps\r\n",
      "Completed: 33 steps\r\n",
      "Completed: 34 steps\r\n",
      "Completed: 35 steps\r\n",
      "Completed: 36 steps\r\n",
      "Completed: 37 steps\r\n",
      "Completed: 38 steps\r\n",
      "Completed: 39 steps\r\n",
      "Completed: 40 steps\r\n",
      "Completed: 41 steps\r\n",
      "Completed: 42 steps\r\n",
      "Completed: 43 steps\r\n",
      "Completed: 44 steps\r\n",
      "Completed: 45 steps\r\n",
      "Completed: 46 steps\r\n",
      "Completed: 47 steps\r\n",
      "Completed: 48 steps\r\n",
      "Completed: 49 steps\r\n",
      "Completed: 50 steps\r\n",
      "Completed: 51 steps\r\n",
      "Completed: 52 steps\r\n",
      "Completed: 53 steps\r\n",
      "Completed: 54 steps\r\n",
      "Completed: 55 steps\r\n",
      "Completed: 56 steps\r\n",
      "Completed: 57 steps\r\n",
      "Completed: 58 steps\r\n",
      "Completed: 59 steps\r\n",
      "Completed: 60 steps\r\n",
      "Completed: 61 steps\r\n",
      "Completed: 62 steps\r\n",
      "Completed: 63 steps\r\n",
      "Completed: 64 steps\r\n",
      "Completed: 65 steps\r\n",
      "Completed: 66 steps\r\n",
      "Completed: 67 steps\r\n",
      "Completed: 68 steps\r\n",
      "Completed: 69 steps\r\n",
      "Completed: 70 steps\r\n",
      "Completed: 71 steps\r\n",
      "Completed: 72 steps\r\n",
      "Completed: 73 steps\r\n",
      "Completed: 74 steps\r\n",
      "Completed: 75 steps\r\n",
      "Completed: 76 steps\r\n",
      "Completed: 77 steps\r\n",
      "Completed: 78 steps\r\n",
      "Completed: 79 steps\r\n",
      "Completed: 80 steps\r\n",
      "Completed: 81 steps\r\n",
      "Completed: 82 steps\r\n",
      "Completed: 83 steps\r\n",
      "Completed: 84 steps\r\n",
      "Completed: 85 steps\r\n",
      "Completed: 86 steps\r\n",
      "Completed: 87 steps\r\n",
      "Completed: 88 steps\r\n",
      "Completed: 89 steps\r\n",
      "Completed: 90 steps\r\n",
      "Completed: 91 steps\r\n",
      "Completed: 92 steps\r\n",
      "Completed: 93 steps\r\n",
      "Completed: 94 steps\r\n",
      "Completed: 95 steps\r\n",
      "Completed: 96 steps\r\n",
      "Completed: 97 steps\r\n",
      "Completed: 98 steps\r\n",
      "Completed: 99 steps\r\n",
      "Completed: 100 steps\n",
      "Run time: 0:00:00.203068\n",
      "Simulation finished\n"
     ]
    }
   ],
   "source": [
    "model = WealthModel(parameters)\n",
    "results = model.run()"
   ]
  },
  {
   "cell_type": "markdown",
   "metadata": {
    "id": "QJM8xSOla1rZ"
   },
   "source": [
    "## Output analysis"
   ]
  },
  {
   "cell_type": "markdown",
   "metadata": {
    "id": "dj0k5Vpha1rZ"
   },
   "source": [
    "The simulation returns a [`DataDict`](https://agentpy.readthedocs.io/en/stable/reference_output.html) with our recorded variables."
   ]
  },
  {
   "cell_type": "code",
   "execution_count": 166,
   "metadata": {
    "colab": {
     "base_uri": "https://localhost:8080/"
    },
    "id": "1Medb1sMa1rZ",
    "outputId": "575ed0b2-28b1-415f-df86-81f4dd70ca53"
   },
   "outputs": [
    {
     "data": {
      "text/plain": [
       "DataDict {\n",
       "'info': Dictionary with 9 keys\n",
       "'parameters': \n",
       "    'constants': Dictionary with 3 keys\n",
       "'variables': \n",
       "    'WealthModel': DataFrame with 1 variable and 101 rows\n",
       "    'WealthAgent': DataFrame with 1 variable and 100 rows\n",
       "'reporters': DataFrame with 1 variable and 1 row\n",
       "}"
      ]
     },
     "execution_count": 166,
     "metadata": {},
     "output_type": "execute_result"
    }
   ],
   "source": [
    "results"
   ]
  },
  {
   "cell_type": "markdown",
   "metadata": {
    "id": "2zyxWKLca1rZ"
   },
   "source": [
    "The output's `info` provides general information about the simulation."
   ]
  },
  {
   "cell_type": "code",
   "execution_count": 167,
   "metadata": {
    "colab": {
     "base_uri": "https://localhost:8080/"
    },
    "id": "_liHMGHBa1rZ",
    "outputId": "4534c50c-9a48-491a-a8c9-fba5072b489c"
   },
   "outputs": [
    {
     "data": {
      "text/plain": [
       "{'model_type': 'WealthModel',\n",
       " 'time_stamp': '2024-08-13 00:08:03',\n",
       " 'agentpy_version': '0.1.5',\n",
       " 'python_version': '3.10.',\n",
       " 'experiment': False,\n",
       " 'completed': True,\n",
       " 'created_objects': 100,\n",
       " 'completed_steps': 100,\n",
       " 'run_time': '0:00:00.203068'}"
      ]
     },
     "execution_count": 167,
     "metadata": {},
     "output_type": "execute_result"
    }
   ],
   "source": [
    "results.info"
   ]
  },
  {
   "cell_type": "markdown",
   "metadata": {
    "id": "3s2Y2DBoa1rZ"
   },
   "source": [
    "To explore the evolution of inequality,\n",
    "we look at the recorded [`DataFrame`](https://pandas.pydata.org/pandas-docs/stable/reference/api/pandas.DataFrame.html) of the model's variables."
   ]
  },
  {
   "cell_type": "code",
   "execution_count": 168,
   "metadata": {
    "colab": {
     "base_uri": "https://localhost:8080/",
     "height": 238
    },
    "id": "3HaM8e2Va1rZ",
    "outputId": "d7c4e5ac-18af-48fe-f95e-f098aa3fe08f"
   },
   "outputs": [
    {
     "data": {
      "application/vnd.google.colaboratory.intrinsic+json": {
       "summary": "{\n  \"name\": \"results\",\n  \"rows\": 5,\n  \"fields\": [\n    {\n      \"column\": \"t\",\n      \"properties\": {\n        \"dtype\": \"number\",\n        \"std\": 1,\n        \"min\": 0,\n        \"max\": 4,\n        \"num_unique_values\": 5,\n        \"samples\": [\n          1,\n          4,\n          2\n        ],\n        \"semantic_type\": \"\",\n        \"description\": \"\"\n      }\n    },\n    {\n      \"column\": \"Gini Coefficient\",\n      \"properties\": {\n        \"dtype\": \"number\",\n        \"std\": 0.004076582196629005,\n        \"min\": 0.0,\n        \"max\": 0.010550482216714924,\n        \"num_unique_values\": 5,\n        \"samples\": [\n          0.005380729040539998,\n          0.010550482216714924,\n          0.007700134492651817\n        ],\n        \"semantic_type\": \"\",\n        \"description\": \"\"\n      }\n    }\n  ]\n}",
       "type": "dataframe"
      },
      "text/html": [
       "\n",
       "  <div id=\"df-cf2c0a3e-3973-4fb2-a68c-df0bfedf2e86\" class=\"colab-df-container\">\n",
       "    <div>\n",
       "<style scoped>\n",
       "    .dataframe tbody tr th:only-of-type {\n",
       "        vertical-align: middle;\n",
       "    }\n",
       "\n",
       "    .dataframe tbody tr th {\n",
       "        vertical-align: top;\n",
       "    }\n",
       "\n",
       "    .dataframe thead th {\n",
       "        text-align: right;\n",
       "    }\n",
       "</style>\n",
       "<table border=\"1\" class=\"dataframe\">\n",
       "  <thead>\n",
       "    <tr style=\"text-align: right;\">\n",
       "      <th></th>\n",
       "      <th>Gini Coefficient</th>\n",
       "    </tr>\n",
       "    <tr>\n",
       "      <th>t</th>\n",
       "      <th></th>\n",
       "    </tr>\n",
       "  </thead>\n",
       "  <tbody>\n",
       "    <tr>\n",
       "      <th>0</th>\n",
       "      <td>0.000000</td>\n",
       "    </tr>\n",
       "    <tr>\n",
       "      <th>1</th>\n",
       "      <td>0.005381</td>\n",
       "    </tr>\n",
       "    <tr>\n",
       "      <th>2</th>\n",
       "      <td>0.007700</td>\n",
       "    </tr>\n",
       "    <tr>\n",
       "      <th>3</th>\n",
       "      <td>0.008764</td>\n",
       "    </tr>\n",
       "    <tr>\n",
       "      <th>4</th>\n",
       "      <td>0.010550</td>\n",
       "    </tr>\n",
       "  </tbody>\n",
       "</table>\n",
       "</div>\n",
       "    <div class=\"colab-df-buttons\">\n",
       "\n",
       "  <div class=\"colab-df-container\">\n",
       "    <button class=\"colab-df-convert\" onclick=\"convertToInteractive('df-cf2c0a3e-3973-4fb2-a68c-df0bfedf2e86')\"\n",
       "            title=\"Convert this dataframe to an interactive table.\"\n",
       "            style=\"display:none;\">\n",
       "\n",
       "  <svg xmlns=\"http://www.w3.org/2000/svg\" height=\"24px\" viewBox=\"0 -960 960 960\">\n",
       "    <path d=\"M120-120v-720h720v720H120Zm60-500h600v-160H180v160Zm220 220h160v-160H400v160Zm0 220h160v-160H400v160ZM180-400h160v-160H180v160Zm440 0h160v-160H620v160ZM180-180h160v-160H180v160Zm440 0h160v-160H620v160Z\"/>\n",
       "  </svg>\n",
       "    </button>\n",
       "\n",
       "  <style>\n",
       "    .colab-df-container {\n",
       "      display:flex;\n",
       "      gap: 12px;\n",
       "    }\n",
       "\n",
       "    .colab-df-convert {\n",
       "      background-color: #E8F0FE;\n",
       "      border: none;\n",
       "      border-radius: 50%;\n",
       "      cursor: pointer;\n",
       "      display: none;\n",
       "      fill: #1967D2;\n",
       "      height: 32px;\n",
       "      padding: 0 0 0 0;\n",
       "      width: 32px;\n",
       "    }\n",
       "\n",
       "    .colab-df-convert:hover {\n",
       "      background-color: #E2EBFA;\n",
       "      box-shadow: 0px 1px 2px rgba(60, 64, 67, 0.3), 0px 1px 3px 1px rgba(60, 64, 67, 0.15);\n",
       "      fill: #174EA6;\n",
       "    }\n",
       "\n",
       "    .colab-df-buttons div {\n",
       "      margin-bottom: 4px;\n",
       "    }\n",
       "\n",
       "    [theme=dark] .colab-df-convert {\n",
       "      background-color: #3B4455;\n",
       "      fill: #D2E3FC;\n",
       "    }\n",
       "\n",
       "    [theme=dark] .colab-df-convert:hover {\n",
       "      background-color: #434B5C;\n",
       "      box-shadow: 0px 1px 3px 1px rgba(0, 0, 0, 0.15);\n",
       "      filter: drop-shadow(0px 1px 2px rgba(0, 0, 0, 0.3));\n",
       "      fill: #FFFFFF;\n",
       "    }\n",
       "  </style>\n",
       "\n",
       "    <script>\n",
       "      const buttonEl =\n",
       "        document.querySelector('#df-cf2c0a3e-3973-4fb2-a68c-df0bfedf2e86 button.colab-df-convert');\n",
       "      buttonEl.style.display =\n",
       "        google.colab.kernel.accessAllowed ? 'block' : 'none';\n",
       "\n",
       "      async function convertToInteractive(key) {\n",
       "        const element = document.querySelector('#df-cf2c0a3e-3973-4fb2-a68c-df0bfedf2e86');\n",
       "        const dataTable =\n",
       "          await google.colab.kernel.invokeFunction('convertToInteractive',\n",
       "                                                    [key], {});\n",
       "        if (!dataTable) return;\n",
       "\n",
       "        const docLinkHtml = 'Like what you see? Visit the ' +\n",
       "          '<a target=\"_blank\" href=https://colab.research.google.com/notebooks/data_table.ipynb>data table notebook</a>'\n",
       "          + ' to learn more about interactive tables.';\n",
       "        element.innerHTML = '';\n",
       "        dataTable['output_type'] = 'display_data';\n",
       "        await google.colab.output.renderOutput(dataTable, element);\n",
       "        const docLink = document.createElement('div');\n",
       "        docLink.innerHTML = docLinkHtml;\n",
       "        element.appendChild(docLink);\n",
       "      }\n",
       "    </script>\n",
       "  </div>\n",
       "\n",
       "\n",
       "<div id=\"df-1da39535-ca1f-45b5-9279-9a878222441a\">\n",
       "  <button class=\"colab-df-quickchart\" onclick=\"quickchart('df-1da39535-ca1f-45b5-9279-9a878222441a')\"\n",
       "            title=\"Suggest charts\"\n",
       "            style=\"display:none;\">\n",
       "\n",
       "<svg xmlns=\"http://www.w3.org/2000/svg\" height=\"24px\"viewBox=\"0 0 24 24\"\n",
       "     width=\"24px\">\n",
       "    <g>\n",
       "        <path d=\"M19 3H5c-1.1 0-2 .9-2 2v14c0 1.1.9 2 2 2h14c1.1 0 2-.9 2-2V5c0-1.1-.9-2-2-2zM9 17H7v-7h2v7zm4 0h-2V7h2v10zm4 0h-2v-4h2v4z\"/>\n",
       "    </g>\n",
       "</svg>\n",
       "  </button>\n",
       "\n",
       "<style>\n",
       "  .colab-df-quickchart {\n",
       "      --bg-color: #E8F0FE;\n",
       "      --fill-color: #1967D2;\n",
       "      --hover-bg-color: #E2EBFA;\n",
       "      --hover-fill-color: #174EA6;\n",
       "      --disabled-fill-color: #AAA;\n",
       "      --disabled-bg-color: #DDD;\n",
       "  }\n",
       "\n",
       "  [theme=dark] .colab-df-quickchart {\n",
       "      --bg-color: #3B4455;\n",
       "      --fill-color: #D2E3FC;\n",
       "      --hover-bg-color: #434B5C;\n",
       "      --hover-fill-color: #FFFFFF;\n",
       "      --disabled-bg-color: #3B4455;\n",
       "      --disabled-fill-color: #666;\n",
       "  }\n",
       "\n",
       "  .colab-df-quickchart {\n",
       "    background-color: var(--bg-color);\n",
       "    border: none;\n",
       "    border-radius: 50%;\n",
       "    cursor: pointer;\n",
       "    display: none;\n",
       "    fill: var(--fill-color);\n",
       "    height: 32px;\n",
       "    padding: 0;\n",
       "    width: 32px;\n",
       "  }\n",
       "\n",
       "  .colab-df-quickchart:hover {\n",
       "    background-color: var(--hover-bg-color);\n",
       "    box-shadow: 0 1px 2px rgba(60, 64, 67, 0.3), 0 1px 3px 1px rgba(60, 64, 67, 0.15);\n",
       "    fill: var(--button-hover-fill-color);\n",
       "  }\n",
       "\n",
       "  .colab-df-quickchart-complete:disabled,\n",
       "  .colab-df-quickchart-complete:disabled:hover {\n",
       "    background-color: var(--disabled-bg-color);\n",
       "    fill: var(--disabled-fill-color);\n",
       "    box-shadow: none;\n",
       "  }\n",
       "\n",
       "  .colab-df-spinner {\n",
       "    border: 2px solid var(--fill-color);\n",
       "    border-color: transparent;\n",
       "    border-bottom-color: var(--fill-color);\n",
       "    animation:\n",
       "      spin 1s steps(1) infinite;\n",
       "  }\n",
       "\n",
       "  @keyframes spin {\n",
       "    0% {\n",
       "      border-color: transparent;\n",
       "      border-bottom-color: var(--fill-color);\n",
       "      border-left-color: var(--fill-color);\n",
       "    }\n",
       "    20% {\n",
       "      border-color: transparent;\n",
       "      border-left-color: var(--fill-color);\n",
       "      border-top-color: var(--fill-color);\n",
       "    }\n",
       "    30% {\n",
       "      border-color: transparent;\n",
       "      border-left-color: var(--fill-color);\n",
       "      border-top-color: var(--fill-color);\n",
       "      border-right-color: var(--fill-color);\n",
       "    }\n",
       "    40% {\n",
       "      border-color: transparent;\n",
       "      border-right-color: var(--fill-color);\n",
       "      border-top-color: var(--fill-color);\n",
       "    }\n",
       "    60% {\n",
       "      border-color: transparent;\n",
       "      border-right-color: var(--fill-color);\n",
       "    }\n",
       "    80% {\n",
       "      border-color: transparent;\n",
       "      border-right-color: var(--fill-color);\n",
       "      border-bottom-color: var(--fill-color);\n",
       "    }\n",
       "    90% {\n",
       "      border-color: transparent;\n",
       "      border-bottom-color: var(--fill-color);\n",
       "    }\n",
       "  }\n",
       "</style>\n",
       "\n",
       "  <script>\n",
       "    async function quickchart(key) {\n",
       "      const quickchartButtonEl =\n",
       "        document.querySelector('#' + key + ' button');\n",
       "      quickchartButtonEl.disabled = true;  // To prevent multiple clicks.\n",
       "      quickchartButtonEl.classList.add('colab-df-spinner');\n",
       "      try {\n",
       "        const charts = await google.colab.kernel.invokeFunction(\n",
       "            'suggestCharts', [key], {});\n",
       "      } catch (error) {\n",
       "        console.error('Error during call to suggestCharts:', error);\n",
       "      }\n",
       "      quickchartButtonEl.classList.remove('colab-df-spinner');\n",
       "      quickchartButtonEl.classList.add('colab-df-quickchart-complete');\n",
       "    }\n",
       "    (() => {\n",
       "      let quickchartButtonEl =\n",
       "        document.querySelector('#df-1da39535-ca1f-45b5-9279-9a878222441a button');\n",
       "      quickchartButtonEl.style.display =\n",
       "        google.colab.kernel.accessAllowed ? 'block' : 'none';\n",
       "    })();\n",
       "  </script>\n",
       "</div>\n",
       "\n",
       "    </div>\n",
       "  </div>\n"
      ],
      "text/plain": [
       "   Gini Coefficient\n",
       "t                  \n",
       "0          0.000000\n",
       "1          0.005381\n",
       "2          0.007700\n",
       "3          0.008764\n",
       "4          0.010550"
      ]
     },
     "execution_count": 168,
     "metadata": {},
     "output_type": "execute_result"
    }
   ],
   "source": [
    "results.variables.WealthModel.head()"
   ]
  },
  {
   "cell_type": "markdown",
   "metadata": {
    "id": "AzADzKp-a1rZ",
    "raw_mimetype": "text/restructuredtext"
   },
   "source": [
    "To visualize this data,\n",
    "we can use [`DataFrame.plot`](https://pandas.pydata.org/pandas-docs/stable/reference/api/pandas.DataFrame.plot.html)."
   ]
  },
  {
   "cell_type": "code",
   "execution_count": 169,
   "metadata": {
    "colab": {
     "base_uri": "https://localhost:8080/",
     "height": 449
    },
    "id": "-hiDxR8ba1rZ",
    "outputId": "a2937a4c-b104-463d-b40f-a20a7a490652"
   },
   "outputs": [
    {
     "data": {
      "image/png": "[encoded data removed]",
      "text/plain": [
       "<Figure size 640x480 with 1 Axes>"
      ]
     },
     "metadata": {},
     "output_type": "display_data"
    }
   ],
   "source": [
    "data = results.variables.WealthModel\n",
    "ax = data.plot()"
   ]
  },
  {
   "cell_type": "markdown",
   "metadata": {
    "id": "vaqmCcGQa1rZ",
    "raw_mimetype": "text/restructuredtext"
   },
   "source": [
    "To look at the distribution at the end of the simulation,\n",
    "we visualize the recorded agent variables with [seaborn](https://seaborn.pydata.org/)."
   ]
  },
  {
   "cell_type": "code",
   "execution_count": 170,
   "metadata": {
    "colab": {
     "base_uri": "https://localhost:8080/",
     "height": 700
    },
    "id": "joGrs6Hda1rZ",
    "outputId": "e094b156-8779-44cd-bc58-49e644d4e1fe"
   },
   "outputs": [
    {
     "ename": "ValueError",
     "evalue": "`bins` must be positive, when an integer",
     "output_type": "error",
     "traceback": [
      "\u001b[0;31m---------------------------------------------------------------------------\u001b[0m",
      "\u001b[0;31mValueError\u001b[0m                                Traceback (most recent call last)",
      "\u001b[0;32m<ipython-input-170-db44f83f2f19>\u001b[0m in \u001b[0;36m<cell line: 1>\u001b[0;34m()\u001b[0m\n\u001b[0;32m----> 1\u001b[0;31m \u001b[0msns\u001b[0m\u001b[0;34m.\u001b[0m\u001b[0mhistplot\u001b[0m\u001b[0;34m(\u001b[0m\u001b[0mdata\u001b[0m\u001b[0;34m=\u001b[0m\u001b[0mresults\u001b[0m\u001b[0;34m.\u001b[0m\u001b[0mvariables\u001b[0m\u001b[0;34m.\u001b[0m\u001b[0mWealthAgent\u001b[0m\u001b[0;34m,\u001b[0m \u001b[0mbinwidth\u001b[0m\u001b[0;34m=\u001b[0m\u001b[0;36m1\u001b[0m\u001b[0;34m)\u001b[0m\u001b[0;34m;\u001b[0m\u001b[0;34m\u001b[0m\u001b[0;34m\u001b[0m\u001b[0m\n\u001b[0m",
      "\u001b[0;32m/usr/local/lib/python3.10/dist-packages/seaborn/distributions.py\u001b[0m in \u001b[0;36mhistplot\u001b[0;34m(data, x, y, hue, weights, stat, bins, binwidth, binrange, discrete, cumulative, common_bins, common_norm, multiple, element, fill, shrink, kde, kde_kws, line_kws, thresh, pthresh, pmax, cbar, cbar_ax, cbar_kws, palette, hue_order, hue_norm, color, log_scale, legend, ax, **kwargs)\u001b[0m\n\u001b[1;32m   1414\u001b[0m     \u001b[0;32mif\u001b[0m \u001b[0mp\u001b[0m\u001b[0;34m.\u001b[0m\u001b[0munivariate\u001b[0m\u001b[0;34m:\u001b[0m\u001b[0;34m\u001b[0m\u001b[0;34m\u001b[0m\u001b[0m\n\u001b[1;32m   1415\u001b[0m \u001b[0;34m\u001b[0m\u001b[0m\n\u001b[0;32m-> 1416\u001b[0;31m         p.plot_univariate_histogram(\n\u001b[0m\u001b[1;32m   1417\u001b[0m             \u001b[0mmultiple\u001b[0m\u001b[0;34m=\u001b[0m\u001b[0mmultiple\u001b[0m\u001b[0;34m,\u001b[0m\u001b[0;34m\u001b[0m\u001b[0;34m\u001b[0m\u001b[0m\n\u001b[1;32m   1418\u001b[0m             \u001b[0melement\u001b[0m\u001b[0;34m=\u001b[0m\u001b[0melement\u001b[0m\u001b[0;34m,\u001b[0m\u001b[0;34m\u001b[0m\u001b[0;34m\u001b[0m\u001b[0m\n",
      "\u001b[0;32m/usr/local/lib/python3.10/dist-packages/seaborn/distributions.py\u001b[0m in \u001b[0;36mplot_univariate_histogram\u001b[0;34m(self, multiple, element, fill, common_norm, common_bins, shrink, kde, kde_kws, color, legend, line_kws, estimate_kws, **plot_kws)\u001b[0m\n\u001b[1;32m    431\u001b[0m         \u001b[0;32mif\u001b[0m \u001b[0mmultiple_histograms\u001b[0m\u001b[0;34m:\u001b[0m\u001b[0;34m\u001b[0m\u001b[0;34m\u001b[0m\u001b[0m\n\u001b[1;32m    432\u001b[0m             \u001b[0;32mif\u001b[0m \u001b[0mcommon_bins\u001b[0m\u001b[0;34m:\u001b[0m\u001b[0;34m\u001b[0m\u001b[0;34m\u001b[0m\u001b[0m\n\u001b[0;32m--> 433\u001b[0;31m                 \u001b[0mbin_kws\u001b[0m \u001b[0;34m=\u001b[0m \u001b[0mestimator\u001b[0m\u001b[0;34m.\u001b[0m\u001b[0m_define_bin_params\u001b[0m\u001b[0;34m(\u001b[0m\u001b[0mall_data\u001b[0m\u001b[0;34m,\u001b[0m \u001b[0morient\u001b[0m\u001b[0;34m,\u001b[0m \u001b[0;32mNone\u001b[0m\u001b[0;34m)\u001b[0m\u001b[0;34m\u001b[0m\u001b[0;34m\u001b[0m\u001b[0m\n\u001b[0m\u001b[1;32m    434\u001b[0m         \u001b[0;32melse\u001b[0m\u001b[0;34m:\u001b[0m\u001b[0;34m\u001b[0m\u001b[0;34m\u001b[0m\u001b[0m\n\u001b[1;32m    435\u001b[0m             \u001b[0mcommon_norm\u001b[0m \u001b[0;34m=\u001b[0m \u001b[0;32mFalse\u001b[0m\u001b[0;34m\u001b[0m\u001b[0;34m\u001b[0m\u001b[0m\n",
      "\u001b[0;32m/usr/local/lib/python3.10/dist-packages/seaborn/_stats/counting.py\u001b[0m in \u001b[0;36m_define_bin_params\u001b[0;34m(self, data, orient, scale_type)\u001b[0m\n\u001b[1;32m    150\u001b[0m         \u001b[0mdiscrete\u001b[0m \u001b[0;34m=\u001b[0m \u001b[0mself\u001b[0m\u001b[0;34m.\u001b[0m\u001b[0mdiscrete\u001b[0m \u001b[0;32mor\u001b[0m \u001b[0mscale_type\u001b[0m \u001b[0;34m==\u001b[0m \u001b[0;34m\"nominal\"\u001b[0m\u001b[0;34m\u001b[0m\u001b[0;34m\u001b[0m\u001b[0m\n\u001b[1;32m    151\u001b[0m \u001b[0;34m\u001b[0m\u001b[0m\n\u001b[0;32m--> 152\u001b[0;31m         bin_edges = self._define_bin_edges(\n\u001b[0m\u001b[1;32m    153\u001b[0m             \u001b[0mvals\u001b[0m\u001b[0;34m,\u001b[0m \u001b[0mweights\u001b[0m\u001b[0;34m,\u001b[0m \u001b[0mself\u001b[0m\u001b[0;34m.\u001b[0m\u001b[0mbins\u001b[0m\u001b[0;34m,\u001b[0m \u001b[0mself\u001b[0m\u001b[0;34m.\u001b[0m\u001b[0mbinwidth\u001b[0m\u001b[0;34m,\u001b[0m \u001b[0mself\u001b[0m\u001b[0;34m.\u001b[0m\u001b[0mbinrange\u001b[0m\u001b[0;34m,\u001b[0m \u001b[0mdiscrete\u001b[0m\u001b[0;34m,\u001b[0m\u001b[0;34m\u001b[0m\u001b[0;34m\u001b[0m\u001b[0m\n\u001b[1;32m    154\u001b[0m         )\n",
      "\u001b[0;32m/usr/local/lib/python3.10/dist-packages/seaborn/_stats/counting.py\u001b[0m in \u001b[0;36m_define_bin_edges\u001b[0;34m(self, vals, weight, bins, binwidth, binrange, discrete)\u001b[0m\n\u001b[1;32m    135\u001b[0m             \u001b[0;32mif\u001b[0m \u001b[0mbinwidth\u001b[0m \u001b[0;32mis\u001b[0m \u001b[0;32mnot\u001b[0m \u001b[0;32mNone\u001b[0m\u001b[0;34m:\u001b[0m\u001b[0;34m\u001b[0m\u001b[0;34m\u001b[0m\u001b[0m\n\u001b[1;32m    136\u001b[0m                 \u001b[0mbins\u001b[0m \u001b[0;34m=\u001b[0m \u001b[0mint\u001b[0m\u001b[0;34m(\u001b[0m\u001b[0mround\u001b[0m\u001b[0;34m(\u001b[0m\u001b[0;34m(\u001b[0m\u001b[0mstop\u001b[0m \u001b[0;34m-\u001b[0m \u001b[0mstart\u001b[0m\u001b[0;34m)\u001b[0m \u001b[0;34m/\u001b[0m \u001b[0mbinwidth\u001b[0m\u001b[0;34m)\u001b[0m\u001b[0;34m)\u001b[0m\u001b[0;34m\u001b[0m\u001b[0;34m\u001b[0m\u001b[0m\n\u001b[0;32m--> 137\u001b[0;31m             \u001b[0mbin_edges\u001b[0m \u001b[0;34m=\u001b[0m \u001b[0mnp\u001b[0m\u001b[0;34m.\u001b[0m\u001b[0mhistogram_bin_edges\u001b[0m\u001b[0;34m(\u001b[0m\u001b[0mvals\u001b[0m\u001b[0;34m,\u001b[0m \u001b[0mbins\u001b[0m\u001b[0;34m,\u001b[0m \u001b[0mbinrange\u001b[0m\u001b[0;34m,\u001b[0m \u001b[0mweight\u001b[0m\u001b[0;34m)\u001b[0m\u001b[0;34m\u001b[0m\u001b[0;34m\u001b[0m\u001b[0m\n\u001b[0m\u001b[1;32m    138\u001b[0m \u001b[0;34m\u001b[0m\u001b[0m\n\u001b[1;32m    139\u001b[0m         \u001b[0;31m# TODO warning or cap on too many bins?\u001b[0m\u001b[0;34m\u001b[0m\u001b[0;34m\u001b[0m\u001b[0m\n",
      "\u001b[0;32m/usr/local/lib/python3.10/dist-packages/numpy/lib/histograms.py\u001b[0m in \u001b[0;36mhistogram_bin_edges\u001b[0;34m(a, bins, range, weights)\u001b[0m\n\u001b[1;32m    667\u001b[0m     \"\"\"\n\u001b[1;32m    668\u001b[0m     \u001b[0ma\u001b[0m\u001b[0;34m,\u001b[0m \u001b[0mweights\u001b[0m \u001b[0;34m=\u001b[0m \u001b[0m_ravel_and_check_weights\u001b[0m\u001b[0;34m(\u001b[0m\u001b[0ma\u001b[0m\u001b[0;34m,\u001b[0m \u001b[0mweights\u001b[0m\u001b[0;34m)\u001b[0m\u001b[0;34m\u001b[0m\u001b[0;34m\u001b[0m\u001b[0m\n\u001b[0;32m--> 669\u001b[0;31m     \u001b[0mbin_edges\u001b[0m\u001b[0;34m,\u001b[0m \u001b[0m_\u001b[0m \u001b[0;34m=\u001b[0m \u001b[0m_get_bin_edges\u001b[0m\u001b[0;34m(\u001b[0m\u001b[0ma\u001b[0m\u001b[0;34m,\u001b[0m \u001b[0mbins\u001b[0m\u001b[0;34m,\u001b[0m \u001b[0mrange\u001b[0m\u001b[0;34m,\u001b[0m \u001b[0mweights\u001b[0m\u001b[0;34m)\u001b[0m\u001b[0;34m\u001b[0m\u001b[0;34m\u001b[0m\u001b[0m\n\u001b[0m\u001b[1;32m    670\u001b[0m     \u001b[0;32mreturn\u001b[0m \u001b[0mbin_edges\u001b[0m\u001b[0;34m\u001b[0m\u001b[0;34m\u001b[0m\u001b[0m\n\u001b[1;32m    671\u001b[0m \u001b[0;34m\u001b[0m\u001b[0m\n",
      "\u001b[0;32m/usr/local/lib/python3.10/dist-packages/numpy/lib/histograms.py\u001b[0m in \u001b[0;36m_get_bin_edges\u001b[0;34m(a, bins, range, weights)\u001b[0m\n\u001b[1;32m    422\u001b[0m                 '`bins` must be an integer, a string, or an array') from e\n\u001b[1;32m    423\u001b[0m         \u001b[0;32mif\u001b[0m \u001b[0mn_equal_bins\u001b[0m \u001b[0;34m<\u001b[0m \u001b[0;36m1\u001b[0m\u001b[0;34m:\u001b[0m\u001b[0;34m\u001b[0m\u001b[0;34m\u001b[0m\u001b[0m\n\u001b[0;32m--> 424\u001b[0;31m             \u001b[0;32mraise\u001b[0m \u001b[0mValueError\u001b[0m\u001b[0;34m(\u001b[0m\u001b[0;34m'`bins` must be positive, when an integer'\u001b[0m\u001b[0;34m)\u001b[0m\u001b[0;34m\u001b[0m\u001b[0;34m\u001b[0m\u001b[0m\n\u001b[0m\u001b[1;32m    425\u001b[0m \u001b[0;34m\u001b[0m\u001b[0m\n\u001b[1;32m    426\u001b[0m         \u001b[0mfirst_edge\u001b[0m\u001b[0;34m,\u001b[0m \u001b[0mlast_edge\u001b[0m \u001b[0;34m=\u001b[0m \u001b[0m_get_outer_edges\u001b[0m\u001b[0;34m(\u001b[0m\u001b[0ma\u001b[0m\u001b[0;34m,\u001b[0m \u001b[0mrange\u001b[0m\u001b[0;34m)\u001b[0m\u001b[0;34m\u001b[0m\u001b[0;34m\u001b[0m\u001b[0m\n",
      "\u001b[0;31mValueError\u001b[0m: `bins` must be positive, when an integer"
     ]
    },
    {
     "data": {
      "image/png": "[encoded data removed]",
      "text/plain": [
       "<Figure size 640x480 with 1 Axes>"
      ]
     },
     "metadata": {},
     "output_type": "display_data"
    }
   ],
   "source": [
    "sns.histplot(data=results.variables.WealthAgent, binwidth=1);"
   ]
  },
  {
   "cell_type": "markdown",
   "metadata": {
    "id": "6w47zensa1rZ",
    "raw_mimetype": "text/restructuredtext"
   },
   "source": [
    "The result resembles a [Boltzmann distribution](http://www.phys.ufl.edu/~meisel/Boltzmann.pdf)."
   ]
  }
 ],
 "metadata": {
  "colab": {
   "provenance": []
  },
  "kernelspec": {
   "display_name": "Python 3 (ipykernel)",
   "language": "python",
   "name": "python3"
  },
  "language_info": {
   "codemirror_mode": {
    "name": "ipython",
    "version": 3
   },
   "file_extension": ".py",
   "mimetype": "text/x-python",
   "name": "python",
   "nbconvert_exporter": "python",
   "pygments_lexer": "ipython3",
   "version": "3.10.4"
  }
 },
 "nbformat": 4,
 "nbformat_minor": 1
}
